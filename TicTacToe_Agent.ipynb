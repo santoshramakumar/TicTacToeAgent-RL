{
  "cells": [
    {
      "cell_type": "markdown",
      "metadata": {
        "id": "rznSDgbvGggG"
      },
      "source": [
        "## Tic-Tac-Toe Agent\n",
        "​\n",
        "In this notebook, you will learn to build an RL agent (using Q-learning) that learns to play Numerical Tic-Tac-Toe with odd numbers. The environment is playing randomly with the agent, i.e. its strategy is to put an even number randomly in an empty cell. The following is the layout of the notebook:\n",
        "        - Defining epsilon-greedy strategy\n",
        "        - Tracking state-action pairs for convergence\n",
        "        - Define hyperparameters for the Q-learning algorithm\n",
        "        - Generating episode and applying Q-update equation\n",
        "        - Checking convergence in Q-values"
      ]
    },
    {
      "cell_type": "markdown",
      "metadata": {
        "id": "8eDb8PxBGggH"
      },
      "source": [
        "#### Importing libraries\n",
        "Write the code to import Tic-Tac-Toe class from the environment file"
      ]
    },
    {
      "cell_type": "code",
      "source": [
        "from google.colab import drive\n",
        "drive.mount('/content/drive')\n",
        "\n",
        "!cp \"/content/drive/MyDrive/ML data /TCGAME/TCGame_Env.py\" ."
      ],
      "metadata": {
        "colab": {
          "base_uri": "https://localhost:8080/"
        },
        "id": "g0eBO_HkWam9",
        "outputId": "972c6a92-cc6f-412c-ccda-58b4440d2911"
      },
      "execution_count": 161,
      "outputs": [
        {
          "output_type": "stream",
          "name": "stdout",
          "text": [
            "Drive already mounted at /content/drive; to attempt to forcibly remount, call drive.mount(\"/content/drive\", force_remount=True).\n"
          ]
        }
      ]
    },
    {
      "cell_type": "code",
      "execution_count": 162,
      "metadata": {
        "ExecuteTime": {
          "end_time": "2022-01-24T14:35:34.619237Z",
          "start_time": "2022-01-24T14:35:33.562064Z"
        },
        "id": "6SFNYceFGggJ"
      },
      "outputs": [],
      "source": [
        "from TCGame_Env import TicTacToe\n",
        "import collections\n",
        "import numpy as np\n",
        "import random\n",
        "import pickle\n",
        "import time\n",
        "from matplotlib import pyplot as plt\n",
        "from itertools import islice\n"
      ]
    },
    {
      "cell_type": "code",
      "execution_count": 163,
      "metadata": {
        "ExecuteTime": {
          "end_time": "2022-01-24T14:35:35.940878Z",
          "start_time": "2022-01-24T14:35:35.934895Z"
        },
        "id": "wYLQyopEG8nz"
      },
      "outputs": [],
      "source": [
        "# Function to convert state array into a string to store it as keys in the dictionary\n",
        "# states in Q-dictionary will be of form: x-4-5-3-8-x-x-x-x\n",
        "#   x | 4 | 5\n",
        "#   ----------\n",
        "#   3 | 8 | x\n",
        "#   ----------\n",
        "#   x | x | x\n",
        "\n",
        "def Q_state(state):\n",
        "\n",
        "    return ('-'.join(str(e) for e in state)).replace('nan','x')"
      ]
    },
    {
      "cell_type": "code",
      "execution_count": 164,
      "metadata": {
        "ExecuteTime": {
          "end_time": "2022-01-24T14:35:36.612849Z",
          "start_time": "2022-01-24T14:35:36.607151Z"
        },
        "id": "ZebMOoiVHBBr"
      },
      "outputs": [],
      "source": [
        "# Defining a function which will return valid (all possible actions) actions corresponding to a state\n",
        "# Important to avoid errors during deployment.\n",
        "\n",
        "def valid_actions(state):\n",
        "    valid_Actions = []\n",
        "    valid_Actions = [i for i in env.action_space(state)[0]] ###### -------please call your environment as env\n",
        "    return valid_Actions"
      ]
    },
    {
      "cell_type": "code",
      "execution_count": 165,
      "metadata": {
        "ExecuteTime": {
          "end_time": "2022-01-24T14:35:37.538250Z",
          "start_time": "2022-01-24T14:35:37.532717Z"
        },
        "id": "IRciPUkYHDWf"
      },
      "outputs": [],
      "source": [
        "# Defining a function which will add new Q-values to the Q-dictionary. \n",
        "def add_to_dict(state):\n",
        "    state1 = Q_state(state)\n",
        "    \n",
        "    valid_act = valid_actions(state)\n",
        "    if state1 not in Q_dict.keys():\n",
        "        for action in valid_act:\n",
        "            Q_dict[state1][action]=0"
      ]
    },
    {
      "cell_type": "markdown",
      "metadata": {
        "id": "fNNi_EfHGggM"
      },
      "source": [
        "#### Epsilon-greedy strategy - \n",
        "\n",
        "(you can build your epsilon-decay function similar to the one given at the end of the notebook)"
      ]
    },
    {
      "cell_type": "code",
      "execution_count": 166,
      "metadata": {
        "ExecuteTime": {
          "end_time": "2022-01-24T14:35:39.188073Z",
          "start_time": "2022-01-24T14:35:39.177883Z"
        },
        "id": "m0lMfqiJGggN"
      },
      "outputs": [],
      "source": [
        "# Defining epsilon-greedy policy. You can choose any function epsilon-decay strategy\n",
        "  \n",
        "def epsilon_greedy(state, time):\n",
        "    max_epsilon = 1.0\n",
        "    min_epsilon = 0.001\n",
        "    epsilon = (min_epsilon + (max_epsilon - min_epsilon) * np.exp(-0.000001*time))\n",
        "  \n",
        "    z = np.random.random()\n",
        "    state1 = Q_state(state)\n",
        "    valid_act = valid_actions(state)\n",
        "        \n",
        "    if z > epsilon:\n",
        "        action = max(Q_dict[state1],key=Q_dict[state1].get)\n",
        "        p='exploitation'#Exploitation: \n",
        "    else:\n",
        "        action = random.choice(valid_act)\n",
        "        p='Exploration'#Exploration: \n",
        "    return action\n",
        "\n"
      ]
    },
    {
      "cell_type": "markdown",
      "metadata": {
        "id": "H2kyQHOMGggR"
      },
      "source": [
        "#### Tracking the state-action pairs for checking convergence - write your code here"
      ]
    },
    {
      "cell_type": "code",
      "execution_count": 167,
      "metadata": {
        "ExecuteTime": {
          "end_time": "2022-01-24T14:35:42.521479Z",
          "start_time": "2022-01-24T14:35:42.516463Z"
        },
        "id": "qcxZ29vdGggS"
      },
      "outputs": [],
      "source": [
        "# Initialise Q_dictionary as 'Q_dict' and States_tracked as 'States_track' (for convergence)\n",
        "Q_dict = collections.defaultdict(dict)\n",
        "States_track = collections.defaultdict(dict)"
      ]
    },
    {
      "cell_type": "code",
      "execution_count": 168,
      "metadata": {
        "ExecuteTime": {
          "end_time": "2022-01-24T14:36:13.148701Z",
          "start_time": "2022-01-24T14:36:13.142602Z"
        },
        "id": "vs73iv8fHOxV"
      },
      "outputs": [],
      "source": [
        "# Initialise states to be tracked\n",
        "def initialise_tracking_states():\n",
        "    sample_q_values = [('x-1-x-4-x-x-x-x-x',(0,3)),\n",
        "                       ('x-x-1-x-x-x-x-4-x',(1,5)),\n",
        "                       ('x-x-5-x-x-x-x-2-x',(1,7)),\n",
        "                       ('x-x-x-x-5-2-x-7-8',(2,9)),\n",
        "                       ('2-6-x-x-x-9-3-x-x',(2,7))]    \n",
        "    for q_values in sample_q_values:\n",
        "        state = q_values[0]\n",
        "        action = q_values[1]\n",
        "        States_track[state][action] = []"
      ]
    },
    {
      "cell_type": "code",
      "execution_count": 169,
      "metadata": {
        "ExecuteTime": {
          "end_time": "2022-01-24T14:36:14.028910Z",
          "start_time": "2022-01-24T14:36:14.024272Z"
        },
        "id": "dAbwJDMVHpwl"
      },
      "outputs": [],
      "source": [
        "#Defining a function to save the Q-dictionary as a pickle file\n",
        "\n",
        "def save_obj(obj, name ):\n",
        "    with open(name + '.pkl', 'wb') as f:\n",
        "        pickle.dump(obj, f, pickle.HIGHEST_PROTOCOL)"
      ]
    },
    {
      "cell_type": "code",
      "execution_count": 170,
      "metadata": {
        "ExecuteTime": {
          "end_time": "2022-01-24T14:36:14.873514Z",
          "start_time": "2022-01-24T14:36:14.868526Z"
        },
        "id": "6Pyj7nMVHsBi"
      },
      "outputs": [],
      "source": [
        "def save_tracking_states():\n",
        "    for state in States_track.keys():\n",
        "        for action in States_track[state].keys():\n",
        "            if state in Q_dict and action in Q_dict[state]:\n",
        "                States_track[state][action].append(Q_dict[state][action])"
      ]
    },
    {
      "cell_type": "code",
      "execution_count": 171,
      "metadata": {
        "ExecuteTime": {
          "end_time": "2022-01-24T14:36:18.547285Z",
          "start_time": "2022-01-24T14:36:18.543329Z"
        },
        "id": "B_8xSluUHvew"
      },
      "outputs": [],
      "source": [
        "initialise_tracking_states()"
      ]
    },
    {
      "cell_type": "markdown",
      "metadata": {
        "id": "-iPt--E9GggV"
      },
      "source": [
        "#### Define hyperparameters  ---write your code here"
      ]
    },
    {
      "cell_type": "code",
      "execution_count": 172,
      "metadata": {
        "ExecuteTime": {
          "end_time": "2022-01-24T14:36:20.854144Z",
          "start_time": "2022-01-24T14:36:20.848161Z"
        },
        "id": "G0_f5czFGggW"
      },
      "outputs": [],
      "source": [
        "EPISODES = 1000000         \n",
        "LR = 0.02                  #learning rate\n",
        "GAMMA = 0.8\n",
        "threshold = 2000       #every these many episodes, the 4 Q-values will be stored/appended (convergence graphs)\n",
        "policy_threshold = 32000    #every these many episodes, the Q-dict will be updated"
      ]
    },
    {
      "cell_type": "markdown",
      "metadata": {
        "id": "Md6twJ7wGggh"
      },
      "source": [
        "### Q-update loop ---write your code here"
      ]
    },
    {
      "cell_type": "code",
      "execution_count": 173,
      "metadata": {
        "id": "ldCgQuDNGggj",
        "outputId": "ff2ab08a-675e-488b-b9cd-3e5bf1b2690f",
        "colab": {
          "base_uri": "https://localhost:8080/"
        }
      },
      "outputs": [
        {
          "output_type": "stream",
          "name": "stdout",
          "text": [
            "Episodes Completed:  0\n",
            "Episodes Completed:  20000\n",
            "Episodes Completed:  40000\n",
            "Episodes Completed:  60000\n",
            "Episodes Completed:  80000\n",
            "Episodes Completed:  100000\n",
            "Episodes Completed:  120000\n",
            "Episodes Completed:  140000\n",
            "Episodes Completed:  160000\n",
            "Episodes Completed:  180000\n",
            "Episodes Completed:  200000\n",
            "Episodes Completed:  220000\n",
            "Episodes Completed:  240000\n",
            "Episodes Completed:  260000\n",
            "Episodes Completed:  280000\n",
            "Episodes Completed:  300000\n",
            "Episodes Completed:  320000\n",
            "Episodes Completed:  340000\n",
            "Episodes Completed:  360000\n",
            "Episodes Completed:  380000\n",
            "Episodes Completed:  400000\n",
            "Episodes Completed:  420000\n",
            "Episodes Completed:  440000\n",
            "Episodes Completed:  460000\n",
            "Episodes Completed:  480000\n",
            "Episodes Completed:  500000\n",
            "Episodes Completed:  520000\n",
            "Episodes Completed:  540000\n",
            "Episodes Completed:  560000\n",
            "Episodes Completed:  580000\n",
            "Episodes Completed:  600000\n",
            "Episodes Completed:  620000\n",
            "Episodes Completed:  640000\n",
            "Episodes Completed:  660000\n",
            "Episodes Completed:  680000\n",
            "Episodes Completed:  700000\n",
            "Episodes Completed:  720000\n",
            "Episodes Completed:  740000\n",
            "Episodes Completed:  760000\n",
            "Episodes Completed:  780000\n",
            "Episodes Completed:  800000\n",
            "Episodes Completed:  820000\n",
            "Episodes Completed:  840000\n",
            "Episodes Completed:  860000\n",
            "Episodes Completed:  880000\n",
            "Episodes Completed:  900000\n",
            "Episodes Completed:  920000\n",
            "Episodes Completed:  940000\n",
            "Episodes Completed:  960000\n",
            "Episodes Completed:  980000\n",
            "Elapsed_time:  1762.7866814136505\n"
          ]
        }
      ],
      "source": [
        "start_time = time.time()\n",
        "\n",
        "for episode in range(EPISODES):\n",
        "    env=TicTacToe()\n",
        "    initial_state = env.state    \n",
        "    curr_state = env.state     \n",
        "\n",
        "    if episode%20000==1:\n",
        "        print('Episodes Completed: ',episode-1)\n",
        "    add_to_dict(curr_state)\n",
        "    time_step = 0\n",
        "    reward = None\n",
        "    total_reward=0\n",
        "    continue_Next=False\n",
        "    \n",
        "    while not continue_Next:\n",
        "        curr_action = epsilon_greedy(curr_state, episode)\n",
        "        next_state, reward, continue_Next = env.step(curr_state, curr_action)\n",
        "        total_reward += reward\n",
        "        add_to_dict(next_state)\n",
        "        if continue_Next==False:\n",
        "        # UPDATE RULE\n",
        "            max_next = max(Q_dict[Q_state(next_state)],key=Q_dict[Q_state(next_state)].get)   #this gets the action corresponding to max q-value of next state\n",
        "            Q_dict[Q_state(curr_state)][curr_action] += LR * ((reward + (GAMMA*(Q_dict[Q_state(next_state)][max_next]))) - Q_dict[Q_state(curr_state)][curr_action])\n",
        "        else:\n",
        "            Q_dict[Q_state(curr_state)][curr_action] += LR * ((reward - Q_dict[Q_state(curr_state)][curr_action]))\n",
        "        curr_state = next_state\n",
        "  \n",
        "    if (episode == threshold-1):        #at the 1999th episode\n",
        "        initialise_tracking_states()\n",
        "      \n",
        "    if ((episode+1) % threshold) == 0:   #every 2000th episode\n",
        "        save_tracking_states()\n",
        "        save_obj(States_track,'States_tracked')   \n",
        "    \n",
        "    #SAVING POLICY\n",
        "    if ((episode+1)% policy_threshold ) == 0:  #every 30000th episodes, the Q-dict will be saved\n",
        "        save_obj(Q_dict,'Policy')\n",
        "           \n",
        "elapsed_time = time.time() - start_time\n",
        "save_obj(States_track,'States_tracked')   \n",
        "save_obj(Q_dict,'Policy')\n",
        "\n",
        "print('Elapsed_time: ', elapsed_time)"
      ]
    },
    {
      "cell_type": "markdown",
      "metadata": {
        "id": "t6eMFbb8Ggg2"
      },
      "source": [
        "#### Check the Q-dictionary"
      ]
    },
    {
      "cell_type": "code",
      "execution_count": 174,
      "metadata": {
        "id": "fr9d2fcVGgg4",
        "outputId": "4fd09555-8160-448f-9a63-75437982cc5e",
        "colab": {
          "base_uri": "https://localhost:8080/"
        }
      },
      "outputs": [
        {
          "output_type": "execute_result",
          "data": {
            "text/plain": [
              "{'x-7-x-x-x-x-2-x-x': {(0, 1): -0.46014274118435494,\n",
              "  (0, 3): -0.4463368545088292,\n",
              "  (0, 5): -0.47364103851716954,\n",
              "  (0, 9): -0.5616785591390444,\n",
              "  (2, 1): -0.44367390685123603,\n",
              "  (2, 3): -0.4500917866738803,\n",
              "  (2, 5): -0.874969132790511,\n",
              "  (2, 9): -0.5279153138322886,\n",
              "  (3, 1): -0.44537397382784627,\n",
              "  (3, 3): -0.44927680726554103,\n",
              "  (3, 5): -0.74773804858987,\n",
              "  (3, 9): -0.44905096546675694,\n",
              "  (4, 1): -0.4407687145869014,\n",
              "  (4, 3): -0.45267616067304,\n",
              "  (4, 5): -0.5652195151227516,\n",
              "  (4, 9): -0.5850045648166811,\n",
              "  (5, 1): -0.45092084709053276,\n",
              "  (5, 3): -0.4500781356281747,\n",
              "  (5, 5): -0.44338334756894165,\n",
              "  (5, 9): -0.4498361067832016,\n",
              "  (7, 1): -0.4410555914631652,\n",
              "  (7, 3): -0.4452305862175628,\n",
              "  (7, 5): -0.44992342843049415,\n",
              "  (7, 9): -0.6742117337974101,\n",
              "  (8, 1): -0.44511379811196716,\n",
              "  (8, 3): -0.45111261781356937,\n",
              "  (8, 5): -0.44338334756894165,\n",
              "  (8, 9): -0.7233474315056315},\n",
              " 'x-x-x-x-x-x-x-x-x': {(0, 1): -1.3555308550509542,\n",
              "  (0, 3): -1.3543924835655716,\n",
              "  (0, 5): -1.3521263167542779,\n",
              "  (0, 7): -1.3550196830155952,\n",
              "  (0, 9): -1.3504961418306556,\n",
              "  (1, 1): -1.3510490037697613,\n",
              "  (1, 3): -1.3522701177533052,\n",
              "  (1, 5): -1.3532596732470852,\n",
              "  (1, 7): -1.3516351776161692,\n",
              "  (1, 9): -1.3530495203636455,\n",
              "  (2, 1): -1.3517017174905273,\n",
              "  (2, 3): -1.343936274706403,\n",
              "  (2, 5): -1.3550482024576018,\n",
              "  (2, 7): -1.3551344062460413,\n",
              "  (2, 9): -1.3585662552051045,\n",
              "  (3, 1): -1.3524069303030977,\n",
              "  (3, 3): -1.3523874956670283,\n",
              "  (3, 5): -1.3505978674023857,\n",
              "  (3, 7): -1.3503876880415138,\n",
              "  (3, 9): -1.3512255059906493,\n",
              "  (4, 1): -1.3534074190551137,\n",
              "  (4, 3): -1.3560429747159357,\n",
              "  (4, 5): -1.3512923578019949,\n",
              "  (4, 7): -1.3524252594129733,\n",
              "  (4, 9): -1.3514059006201653,\n",
              "  (5, 1): -1.3574757774251853,\n",
              "  (5, 3): -1.3575376077206738,\n",
              "  (5, 5): -1.352554276742451,\n",
              "  (5, 7): -1.3523174034524081,\n",
              "  (5, 9): -1.3503590248965367,\n",
              "  (6, 1): -1.3508312271437801,\n",
              "  (6, 3): -1.3507907134291748,\n",
              "  (6, 5): -1.3552462587245075,\n",
              "  (6, 7): -1.3542675975249816,\n",
              "  (6, 9): -1.3503521654790358,\n",
              "  (7, 1): -1.3537621234166752,\n",
              "  (7, 3): -1.350354855961893,\n",
              "  (7, 5): -1.351850168531719,\n",
              "  (7, 7): -1.3509859823707757,\n",
              "  (7, 9): -1.3503638302406094,\n",
              "  (8, 1): -1.3512066389601514,\n",
              "  (8, 3): -1.3573903775669025,\n",
              "  (8, 5): -1.3502890342793188,\n",
              "  (8, 7): -1.3515536970147672,\n",
              "  (8, 9): -1.3508854159955566}}"
            ]
          },
          "metadata": {},
          "execution_count": 174
        }
      ],
      "source": [
        "\n",
        "dict(islice(Q_dict.items(), 0, 2))\n"
      ]
    },
    {
      "cell_type": "code",
      "execution_count": 175,
      "metadata": {
        "id": "F1tnDJWkGgg9",
        "outputId": "0fe97a35-ece9-494a-ea89-06fb1b5b5ffc",
        "colab": {
          "base_uri": "https://localhost:8080/"
        }
      },
      "outputs": [
        {
          "output_type": "execute_result",
          "data": {
            "text/plain": [
              "1550335"
            ]
          },
          "metadata": {},
          "execution_count": 175
        }
      ],
      "source": [
        "len(Q_dict)"
      ]
    },
    {
      "cell_type": "code",
      "execution_count": 177,
      "metadata": {
        "ExecuteTime": {
          "end_time": "2022-01-24T14:36:30.472809Z",
          "start_time": "2022-01-24T14:36:30.466833Z"
        },
        "id": "4VsMqlafOSYb",
        "outputId": "2d41709a-513d-42ed-b90a-5212707bdeb3",
        "colab": {
          "base_uri": "https://localhost:8080/"
        }
      },
      "outputs": [
        {
          "output_type": "stream",
          "name": "stdout",
          "text": [
            "500\n",
            "500\n",
            "500\n",
            "345\n",
            "402\n"
          ]
        }
      ],
      "source": [
        "for key, value in States_track.items():\n",
        "    for k,v in value.items():\n",
        "        print(len(v))\n"
      ]
    },
    {
      "cell_type": "code",
      "execution_count": 178,
      "metadata": {
        "ExecuteTime": {
          "end_time": "2022-01-24T14:36:33.100559Z",
          "start_time": "2022-01-24T14:36:33.092577Z"
        },
        "scrolled": true,
        "id": "Qko3EKNtOSYb",
        "outputId": "6f69c669-1383-4d1b-d558-18f7c094f593",
        "colab": {
          "base_uri": "https://localhost:8080/"
        }
      },
      "outputs": [
        {
          "output_type": "stream",
          "name": "stdout",
          "text": [
            "x-1-x-4-x-x-x-x-x (0, 3)\n",
            "x-x-1-x-x-x-x-4-x (1, 5)\n",
            "x-x-5-x-x-x-x-2-x (1, 7)\n",
            "x-x-x-x-5-2-x-7-8 (2, 9)\n",
            "2-6-x-x-x-9-3-x-x (2, 7)\n"
          ]
        }
      ],
      "source": [
        "for key, value in States_track.items():\n",
        "    for k,v in value.items():\n",
        "        print(key, k)"
      ]
    },
    {
      "cell_type": "markdown",
      "metadata": {
        "id": "KGPZEQDFGghG"
      },
      "source": [
        "#### Check the states tracked for Q-values convergence\n",
        "(non-evaluative)"
      ]
    },
    {
      "cell_type": "code",
      "execution_count": 179,
      "metadata": {
        "ExecuteTime": {
          "end_time": "2022-01-24T14:36:37.113286Z",
          "start_time": "2022-01-24T14:36:36.623317Z"
        },
        "id": "pVQInsg7GghL",
        "outputId": "c5504d18-cf69-4ee2-f145-88624ae003bf",
        "colab": {
          "base_uri": "https://localhost:8080/",
          "height": 228
        }
      },
      "outputs": [
        {
          "output_type": "display_data",
          "data": {
            "image/png": "[encoded data removed]",
            "text/plain": [
              "<Figure size 1440x504 with 4 Axes>"
            ]
          },
          "metadata": {
            "needs_background": "light"
          }
        }
      ],
      "source": [
        "#Plot1:\n",
        "xaxis = np.asarray(range(0, len(States_track['x-1-x-4-x-x-x-x-x'][(0, 3)])))\n",
        "plt.figure(0, figsize=(20,7))\n",
        "plt.subplot(241)\n",
        "plt.title('state=(x-1-x-4-x-x-x-x-x) action=(7, 7)')\n",
        "plt.plot(xaxis,np.asarray(States_track['x-1-x-4-x-x-x-x-x'][(0,3)]))\n",
        "#Plot2:\n",
        "xaxis = np.asarray(range(0, len(States_track['x-x-1-x-x-x-x-4-x'][(1, 5)])))\n",
        "plt.subplot(242)\n",
        "plt.title('state=(x-x-1-x-x-x-x-4-x) action=(1, 5)')\n",
        "plt.plot(xaxis,np.asarray(States_track['x-x-1-x-x-x-x-4-x'][(1, 5)]))\n",
        "#Plot3:\n",
        "xaxis = np.asarray(range(0, len(States_track['x-x-5-x-x-x-x-2-x'][(1, 7)])))\n",
        "plt.subplot(243)\n",
        "plt.title('state=(x-x-5-x-x-x-x-2-x) action=(1, 7)')\n",
        "plt.plot(xaxis ,np.asarray(States_track['x-x-5-x-x-x-x-2-x'][(1, 7)]))\n",
        "#Plot4:\n",
        "xaxis = np.asarray(range(0, len(States_track['2-6-x-x-x-9-3-x-x'][(2, 7)])))\n",
        "plt.subplot(244)\n",
        "plt.title('state=(2-6-x-x-x-9-3-x-x) action=(2, 7)')\n",
        "plt.plot(xaxis,np.asarray(States_track['2-6-x-x-x-9-3-x-x'][(2, 7)]))\n",
        "\n",
        "plt.show()"
      ]
    },
    {
      "cell_type": "markdown",
      "metadata": {
        "id": "b2Opp8_NITkC"
      },
      "source": [
        "### Epsilon - decay check"
      ]
    },
    {
      "cell_type": "code",
      "execution_count": 180,
      "metadata": {
        "ExecuteTime": {
          "end_time": "2022-01-24T14:36:51.540578Z",
          "start_time": "2022-01-24T14:36:43.725620Z"
        },
        "id": "xTMUDngnOSYd"
      },
      "outputs": [],
      "source": [
        "max_epsilon = 1.0\n",
        "min_epsilon = 0.001\n",
        "time = np.arange(0,5000000)\n",
        "epsilon = []\n",
        "for i in range(0,5000000):\n",
        "    epsilon.append(min_epsilon + (max_epsilon - min_epsilon) * np.exp(-0.000001*i))"
      ]
    },
    {
      "cell_type": "code",
      "execution_count": 181,
      "metadata": {
        "ExecuteTime": {
          "end_time": "2022-01-24T14:37:02.348104Z",
          "start_time": "2022-01-24T14:37:00.900305Z"
        },
        "colab": {
          "base_uri": "https://localhost:8080/",
          "height": 278
        },
        "id": "J7c2xADQGghV",
        "outputId": "d882a544-b6a7-4135-e081-434bf8e779bf"
      },
      "outputs": [
        {
          "output_type": "display_data",
          "data": {
            "image/png": "[encoded data removed]",
            "text/plain": [
              "<Figure size 432x288 with 1 Axes>"
            ]
          },
          "metadata": {
            "needs_background": "light"
          }
        }
      ],
      "source": [
        "plt.plot(time, epsilon)\n",
        "plt.show()"
      ]
    },
    {
      "cell_type": "code",
      "source": [
        ""
      ],
      "metadata": {
        "id": "PkXQJ1yNYit0"
      },
      "execution_count": null,
      "outputs": []
    }
  ],
  "metadata": {
    "colab": {
      "collapsed_sections": [],
      "name": "TicTacToe_Agent.ipynb",
      "provenance": []
    },
    "kernelspec": {
      "display_name": "Python 3",
      "language": "python",
      "name": "python3"
    },
    "language_info": {
      "codemirror_mode": {
        "name": "ipython",
        "version": 3
      },
      "file_extension": ".py",
      "mimetype": "text/x-python",
      "name": "python",
      "nbconvert_exporter": "python",
      "pygments_lexer": "ipython3",
      "version": "3.8.8"
    },
    "varInspector": {
      "cols": {
        "lenName": 16,
        "lenType": 16,
        "lenVar": 40
      },
      "kernels_config": {
        "python": {
          "delete_cmd_postfix": "",
          "delete_cmd_prefix": "del ",
          "library": "var_list.py",
          "varRefreshCmd": "print(var_dic_list())"
        },
        "r": {
          "delete_cmd_postfix": ") ",
          "delete_cmd_prefix": "rm(",
          "library": "var_list.r",
          "varRefreshCmd": "cat(var_dic_list()) "
        }
      },
      "types_to_exclude": [
        "module",
        "function",
        "builtin_function_or_method",
        "instance",
        "_Feature"
      ],
      "window_display": false
    }
  },
  "nbformat": 4,
  "nbformat_minor": 0
}